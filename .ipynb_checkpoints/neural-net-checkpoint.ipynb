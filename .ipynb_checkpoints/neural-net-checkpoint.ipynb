{
 "cells": [
  {
   "cell_type": "code",
   "execution_count": 2,
   "metadata": {},
   "outputs": [],
   "source": [
    "import numpy as np\n",
    "import matplotlib.pyplot as plt\n",
    "import torch\n",
    "import torch.nn as nn\n",
    "import torch.nn.functional as F\n",
    "from torch import optim\n",
    "from torch.utils.data import TensorDataset, DataLoader, random_split\n",
    "\n",
    "device = torch.device('cuda') if torch.cuda.is_available() else torch.device('cpu')\n",
    "\n",
    "# torch.manual_seed(42)\n",
    "# np.random.seed(42)"
   ]
  },
  {
   "cell_type": "code",
   "execution_count": 3,
   "metadata": {},
   "outputs": [
    {
     "name": "stdout",
     "output_type": "stream",
     "text": [
      "(250, 2304)\n",
      "(250, 2304)\n"
     ]
    }
   ],
   "source": [
    "# Import data\n",
    "train_data = np.genfromtxt('./datasets/debug.csv', delimiter=',')\n",
    "y_train = train_data[:,0]\n",
    "x_train = train_data[:,1:]\n",
    "print(x_train.shape)\n",
    "\n",
    "test_data = np.genfromtxt('./datasets/debug.csv', delimiter=',')\n",
    "y_test = test_data[:,0]\n",
    "x_test = test_data[:,1:]\n",
    "print(x_test.shape)"
   ]
  },
  {
   "cell_type": "code",
   "execution_count": 4,
   "metadata": {},
   "outputs": [
    {
     "name": "stdout",
     "output_type": "stream",
     "text": [
      "0.0\n"
     ]
    },
    {
     "data": {
      "image/png": "[encoded data removed]",
      "text/plain": [
       "<Figure size 432x288 with 1 Axes>"
      ]
     },
     "metadata": {
      "needs_background": "light"
     },
     "output_type": "display_data"
    }
   ],
   "source": [
    "# Visualising data\n",
    "i=16\n",
    "plt.imshow(x_train[i].reshape((48,48)), cmap='magma')\n",
    "print(y_train[i])"
   ]
  },
  {
   "cell_type": "code",
   "execution_count": 5,
   "metadata": {},
   "outputs": [],
   "source": [
    "x_train = torch.tensor(x_train, dtype=torch.float)\n",
    "y_train = torch.tensor(y_train, dtype=torch.long)\n",
    "x_test = torch.tensor(x_test, dtype=torch.float)\n",
    "y_test = torch.tensor(y_test, dtype=torch.long)"
   ]
  },
  {
   "cell_type": "code",
   "execution_count": 6,
   "metadata": {},
   "outputs": [],
   "source": [
    "def accuracy(yhatb, yb):\n",
    "    preds = torch.argmax(yhatb, dim=1)\n",
    "    return (preds==yb).float().mean()\n",
    "\n",
    "class Vanilla_nn(nn.Module):\n",
    "    \"\"\"\n",
    "    Vanilla neural network with one hidden layer of 100 perceptrons\n",
    "    Hidden layer has ReLu activation\n",
    "    \"\"\"\n",
    "    def __init__(self):\n",
    "        super().__init__()\n",
    "        self.hidden = nn.Linear(2304, 100)\n",
    "        self.output = nn.Linear(100, 7)\n",
    "        \n",
    "    def forward(self, xb):\n",
    "        xb = self.hidden(xb)\n",
    "        xb = F.relu(xb)\n",
    "        return self.output(xb)\n",
    "\n",
    "    \n",
    "def fit(model, x_train, y_train, learning_rate, epochs, batch_size):\n",
    "    \"\"\"\n",
    "    Fitting the dataset to learn parameters of the model\n",
    "    The loss on validation set is printed after each epoch to detect overfitting\n",
    "    SGD is used for gradient descent\n",
    "    \"\"\"\n",
    "    # Divide train set into train and val set\n",
    "    m = x_train.shape[0]\n",
    "    val_size = int(0.3*m) # 3:7 split on validation:train\n",
    "    train_ds = TensorDataset(x_train.to(device), y_train.to(device))\n",
    "    val_subset, train_subset = random_split(train_ds, [val_size, m - val_size])\n",
    "\n",
    "    train_dl = DataLoader(train_subset, batch_size=batch_size, shuffle=True) # shuffle train dataset\n",
    "    val_dl = DataLoader(val_subset, batch_size=2*batch_size) # set greater batch size since backprop not needed\n",
    "\n",
    "    opt = optim.SGD(model.parameters(), lr=learning_rate)\n",
    "    loss_func = F.cross_entropy\n",
    "    \n",
    "    for epoch in range(epochs):\n",
    "        model.train()\n",
    "        for xb, yb in train_dl:\n",
    "            # Forward prop\n",
    "            loss = loss_func(model(xb), yb)\n",
    "            # Backward prop\n",
    "            loss.backward()\n",
    "            opt.step()\n",
    "            opt.zero_grad()\n",
    "\n",
    "        model.eval()\n",
    "        with torch.no_grad():\n",
    "            train_loss = sum(loss_func(model(xb), yb) for xb, yb in train_dl)/len(train_dl)\n",
    "            val_loss = sum(loss_func(model(xb), yb) for xb, yb in val_dl)/len(val_dl)\n",
    "        print(epoch, train_loss, val_loss)\n",
    "        "
   ]
  },
  {
   "cell_type": "code",
   "execution_count": 7,
   "metadata": {},
   "outputs": [
    {
     "name": "stdout",
     "output_type": "stream",
     "text": [
      "0 tensor(1.8721) tensor(1.9461)\n",
      "1 tensor(1.8195) tensor(1.9371)\n",
      "2 tensor(1.7726) tensor(1.9309)\n",
      "3 tensor(1.7375) tensor(1.9273)\n",
      "4 tensor(1.7127) tensor(1.9208)\n",
      "5 tensor(1.6733) tensor(1.9185)\n",
      "6 tensor(1.6352) tensor(1.9124)\n",
      "7 tensor(1.6195) tensor(1.9089)\n",
      "8 tensor(1.5792) tensor(1.9090)\n",
      "9 tensor(1.5631) tensor(1.9054)\n",
      "10 tensor(1.5316) tensor(1.9007)\n",
      "11 tensor(1.5196) tensor(1.9007)\n",
      "12 tensor(1.4851) tensor(1.8971)\n",
      "13 tensor(1.4763) tensor(1.8945)\n",
      "14 tensor(1.4484) tensor(1.8924)\n",
      "15 tensor(1.4398) tensor(1.8904)\n",
      "16 tensor(1.4051) tensor(1.8875)\n",
      "17 tensor(1.3763) tensor(1.8839)\n",
      "18 tensor(1.3678) tensor(1.8823)\n",
      "19 tensor(1.3519) tensor(1.8817)\n",
      "20 tensor(1.3232) tensor(1.8798)\n",
      "21 tensor(1.3065) tensor(1.8774)\n",
      "22 tensor(1.2963) tensor(1.8789)\n",
      "23 tensor(1.2763) tensor(1.8792)\n",
      "24 tensor(1.2644) tensor(1.8780)\n",
      "25 tensor(1.2422) tensor(1.8772)\n",
      "26 tensor(1.2214) tensor(1.8759)\n",
      "27 tensor(1.2048) tensor(1.8794)\n",
      "28 tensor(1.1972) tensor(1.8793)\n",
      "29 tensor(1.1824) tensor(1.8765)\n",
      "30 tensor(1.1698) tensor(1.8758)\n",
      "31 tensor(1.1423) tensor(1.8773)\n",
      "32 tensor(1.1311) tensor(1.8777)\n",
      "33 tensor(1.1197) tensor(1.8773)\n",
      "34 tensor(1.0975) tensor(1.8785)\n",
      "35 tensor(1.0898) tensor(1.8763)\n",
      "36 tensor(1.0745) tensor(1.8752)\n",
      "37 tensor(1.0585) tensor(1.8758)\n",
      "38 tensor(1.0489) tensor(1.8765)\n",
      "39 tensor(1.0384) tensor(1.8771)\n",
      "40 tensor(1.0221) tensor(1.8768)\n",
      "41 tensor(1.0148) tensor(1.8784)\n",
      "42 tensor(1.0035) tensor(1.8829)\n",
      "43 tensor(0.9827) tensor(1.8865)\n",
      "44 tensor(0.9719) tensor(1.8849)\n",
      "45 tensor(0.9592) tensor(1.8886)\n",
      "46 tensor(0.9438) tensor(1.8886)\n",
      "47 tensor(0.9300) tensor(1.8898)\n",
      "48 tensor(0.9138) tensor(1.8915)\n",
      "49 tensor(0.9078) tensor(1.8930)\n",
      "50 tensor(0.8921) tensor(1.8934)\n",
      "51 tensor(0.8815) tensor(1.8930)\n",
      "52 tensor(0.8685) tensor(1.8960)\n",
      "53 tensor(0.8611) tensor(1.8953)\n",
      "54 tensor(0.8501) tensor(1.8970)\n",
      "55 tensor(0.8357) tensor(1.8991)\n",
      "56 tensor(0.8312) tensor(1.9031)\n",
      "57 tensor(0.8153) tensor(1.9041)\n",
      "58 tensor(0.7995) tensor(1.9045)\n",
      "59 tensor(0.7928) tensor(1.9063)\n",
      "60 tensor(0.7829) tensor(1.9075)\n",
      "61 tensor(0.7693) tensor(1.9138)\n",
      "62 tensor(0.7592) tensor(1.9151)\n",
      "63 tensor(0.7517) tensor(1.9175)\n",
      "64 tensor(0.7403) tensor(1.9196)\n",
      "65 tensor(0.7310) tensor(1.9198)\n",
      "66 tensor(0.7317) tensor(1.9206)\n",
      "67 tensor(0.7123) tensor(1.9251)\n",
      "68 tensor(0.6998) tensor(1.9258)\n",
      "69 tensor(0.6913) tensor(1.9294)\n",
      "70 tensor(0.6775) tensor(1.9318)\n",
      "71 tensor(0.6734) tensor(1.9318)\n",
      "72 tensor(0.6646) tensor(1.9336)\n",
      "73 tensor(0.6596) tensor(1.9371)\n",
      "74 tensor(0.6435) tensor(1.9408)\n",
      "75 tensor(0.6385) tensor(1.9448)\n",
      "76 tensor(0.6290) tensor(1.9452)\n",
      "77 tensor(0.6217) tensor(1.9444)\n",
      "78 tensor(0.6107) tensor(1.9464)\n",
      "79 tensor(0.6115) tensor(1.9479)\n",
      "80 tensor(0.5955) tensor(1.9554)\n",
      "81 tensor(0.5938) tensor(1.9536)\n",
      "82 tensor(0.5819) tensor(1.9580)\n",
      "83 tensor(0.5738) tensor(1.9614)\n",
      "84 tensor(0.5646) tensor(1.9641)\n",
      "85 tensor(0.5581) tensor(1.9664)\n",
      "86 tensor(0.5488) tensor(1.9713)\n",
      "87 tensor(0.5430) tensor(1.9732)\n",
      "88 tensor(0.5396) tensor(1.9745)\n",
      "89 tensor(0.5285) tensor(1.9776)\n",
      "90 tensor(0.5246) tensor(1.9833)\n",
      "91 tensor(0.5098) tensor(1.9794)\n",
      "92 tensor(0.5089) tensor(1.9811)\n",
      "93 tensor(0.5083) tensor(1.9847)\n",
      "94 tensor(0.4950) tensor(1.9889)\n",
      "95 tensor(0.4870) tensor(1.9897)\n",
      "96 tensor(0.4814) tensor(1.9960)\n",
      "97 tensor(0.4699) tensor(1.9927)\n",
      "98 tensor(0.4656) tensor(1.9939)\n",
      "99 tensor(0.4644) tensor(1.9995)\n",
      "tensor(0.7560)\n"
     ]
    }
   ],
   "source": [
    "model = Vanilla_nn().to(device)\n",
    "\n",
    "# Fit data on model\n",
    "fit(model, x_train, y_train, learning_rate=0.01, epochs=100, batch_size=100)\n",
    "\n",
    "accuracy = accuracy(model(x_test), y_test)\n",
    "print(accuracy)"
   ]
  },
  {
   "cell_type": "code",
   "execution_count": null,
   "metadata": {},
   "outputs": [],
   "source": []
  }
 ],
 "metadata": {
  "kernelspec": {
   "display_name": "Python 3",
   "language": "python",
   "name": "python3"
  },
  "language_info": {
   "codemirror_mode": {
    "name": "ipython",
    "version": 3
   },
   "file_extension": ".py",
   "mimetype": "text/x-python",
   "name": "python",
   "nbconvert_exporter": "python",
   "pygments_lexer": "ipython3",
   "version": "3.8.3"
  }
 },
 "nbformat": 4,
 "nbformat_minor": 4
}
